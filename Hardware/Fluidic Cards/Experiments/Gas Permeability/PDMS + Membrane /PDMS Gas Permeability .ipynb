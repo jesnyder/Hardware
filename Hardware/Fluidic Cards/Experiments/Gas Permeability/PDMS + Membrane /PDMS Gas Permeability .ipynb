{
 "cells": [
  {
   "cell_type": "code",
   "execution_count": 1,
   "metadata": {
    "collapsed": true
   },
   "outputs": [],
   "source": [
    "# Analyze microplate reading from a 96 well plate"
   ]
  },
  {
   "cell_type": "code",
   "execution_count": 2,
   "metadata": {
    "collapsed": true
   },
   "outputs": [],
   "source": [
    "import csv;\n",
    "import matplotlib.pyplot as plt; \n",
    "import os; \n",
    "import seaborn as sns; # Import Seaborn\n",
    "import pandas as pd; # Import Pandas\n",
    "import statistics\n"
   ]
  },
  {
   "cell_type": "code",
   "execution_count": 3,
   "metadata": {
    "collapsed": true
   },
   "outputs": [],
   "source": [
    "filename = \"original\"; \n",
    "file_list = [\"Temperature\", \"Cell\", \"Air\"];\n",
    "variable_type = [\"Cell\", \"Air\"];\n"
   ]
  },
  {
   "cell_type": "code",
   "execution_count": 4,
   "metadata": {
    "collapsed": true
   },
   "outputs": [],
   "source": [
    "# Read data from a csv\n",
    "def read_file(filename):\n",
    "    filepath = os.path.join(\"Data\", \"Formatted\", filename + \".csv\")\n",
    "    \n",
    "    data_read = [];\n",
    "    read_file=open(filepath, \"r\"); \n",
    "    reader = csv.reader(read_file);\n",
    "    \n",
    "    for line in reader: \n",
    "        data_read.append(line);\n",
    "    read_file.close()\n",
    "      \n",
    "    return(data_read)\n"
   ]
  },
  {
   "cell_type": "code",
   "execution_count": 5,
   "metadata": {
    "collapsed": true
   },
   "outputs": [],
   "source": [
    "# Save temperature, membrane, and pdms data as separate csv file \n",
    "def parse_original(filename, data_list):\n",
    "    filename = os.path.join(\"Data\" , \"Formatted\", filename + '.csv') \n",
    "    text_file = open(filename, \"a+\");text_file = open(filename, \"r+\");\n",
    "    \n",
    "    for line in data_list:\n",
    "        if len(line)>1:\n",
    "            for i in range(len(line)):\n",
    "                if i == 0: text_file.write(\"\\n\" + line[i])\n",
    "                else: text_file.write(\", \" + line[i] ) \n",
    "    text_file.close()   \n",
    "    "
   ]
  },
  {
   "cell_type": "code",
   "execution_count": 6,
   "metadata": {
    "collapsed": true
   },
   "outputs": [],
   "source": [
    "# Parse the cell, water, and air in each of the Membrane and PDMS coverings \n",
    "def parse_variable(filename, variable_type, interval_start, interval_stop):\n",
    "    file_source = os.path.join(\"Data\" , \"Formatted\", filename + '.csv');\n",
    "    file_destination = os.path.join(\"Data\" , \"Formatted\", filename + \"_\" + variable_type + '.csv');\n",
    "    \n",
    "    data_read = [];\n",
    "    read_file=open( file_source, \"r\"); reader = csv.reader(read_file);\n",
    "    for line in reader: \n",
    "        data_read.append(line);\n",
    "    read_file.close()\n",
    "    \n",
    "    line_count = 0; interval_count = 0; \n",
    "    write_file = open(file_destination, \"a+\"); \n",
    "    write_file = open(file_destination, \"r+\");\n",
    "    \n",
    "    for line in data_read:\n",
    "        \n",
    "        if line_count%9 == 0 and line_count > 0: \n",
    "            interval_count = 0; \n",
    "            write_file.write(\"\\n\")\n",
    "            \n",
    "        if interval_count > interval_start and interval_count < interval_stop: \n",
    "            for i in range(len(line)):\n",
    "                write_file.write(line[i] + \", \")\n",
    "                \n",
    "        interval_count  = interval_count  + 1; \n",
    "        line_count = line_count + 1; \n",
    "                    \n",
    "    write_file.close()       \n",
    "    "
   ]
  },
  {
   "cell_type": "code",
   "execution_count": 7,
   "metadata": {},
   "outputs": [
    {
     "ename": "FileNotFoundError",
     "evalue": "[Errno 2] No such file or directory: 'Data/Formatted/Air.csv'",
     "output_type": "error",
     "traceback": [
      "\u001b[0;31m---------------------------------------------------------------------------\u001b[0m",
      "\u001b[0;31mFileNotFoundError\u001b[0m                         Traceback (most recent call last)",
      "\u001b[0;32m<ipython-input-7-ce0de7d7caf6>\u001b[0m in \u001b[0;36m<module>\u001b[0;34m()\u001b[0m\n\u001b[1;32m     18\u001b[0m \u001b[0;31m# Parse the .csv to the variable types - cell, water, and air\u001b[0m\u001b[0;34m\u001b[0m\u001b[0;34m\u001b[0m\u001b[0m\n\u001b[1;32m     19\u001b[0m \u001b[0;32mfor\u001b[0m \u001b[0mi\u001b[0m \u001b[0;32min\u001b[0m \u001b[0mrange\u001b[0m\u001b[0;34m(\u001b[0m\u001b[0mlen\u001b[0m\u001b[0;34m(\u001b[0m\u001b[0mfile_list\u001b[0m\u001b[0;34m)\u001b[0m\u001b[0;34m)\u001b[0m\u001b[0;34m:\u001b[0m\u001b[0;34m\u001b[0m\u001b[0m\n\u001b[0;32m---> 20\u001b[0;31m     \u001b[0mparse_variable\u001b[0m\u001b[0;34m(\u001b[0m\u001b[0mfile_list\u001b[0m\u001b[0;34m[\u001b[0m\u001b[0mi\u001b[0m\u001b[0;34m]\u001b[0m\u001b[0;34m,\u001b[0m \u001b[0mvariable_type\u001b[0m\u001b[0;34m[\u001b[0m\u001b[0;36m0\u001b[0m\u001b[0;34m]\u001b[0m\u001b[0;34m,\u001b[0m \u001b[0;36m0\u001b[0m\u001b[0;34m,\u001b[0m \u001b[0;36m7\u001b[0m\u001b[0;34m)\u001b[0m\u001b[0;34m\u001b[0m\u001b[0m\n\u001b[0m\u001b[1;32m     21\u001b[0m     \u001b[0mparse_variable\u001b[0m\u001b[0;34m(\u001b[0m\u001b[0mfile_list\u001b[0m\u001b[0;34m[\u001b[0m\u001b[0mi\u001b[0m\u001b[0;34m]\u001b[0m\u001b[0;34m,\u001b[0m \u001b[0mvariable_type\u001b[0m\u001b[0;34m[\u001b[0m\u001b[0;36m1\u001b[0m\u001b[0;34m]\u001b[0m\u001b[0;34m,\u001b[0m \u001b[0;36m6\u001b[0m\u001b[0;34m,\u001b[0m \u001b[0;36m9\u001b[0m\u001b[0;34m)\u001b[0m\u001b[0;34m\u001b[0m\u001b[0m\n\u001b[1;32m     22\u001b[0m \u001b[0;34m\u001b[0m\u001b[0m\n",
      "\u001b[0;32m<ipython-input-6-e31f19e12c0f>\u001b[0m in \u001b[0;36mparse_variable\u001b[0;34m(filename, variable_type, interval_start, interval_stop)\u001b[0m\n\u001b[1;32m      5\u001b[0m \u001b[0;34m\u001b[0m\u001b[0m\n\u001b[1;32m      6\u001b[0m     \u001b[0mdata_read\u001b[0m \u001b[0;34m=\u001b[0m \u001b[0;34m[\u001b[0m\u001b[0;34m]\u001b[0m\u001b[0;34m;\u001b[0m\u001b[0;34m\u001b[0m\u001b[0m\n\u001b[0;32m----> 7\u001b[0;31m     \u001b[0mread_file\u001b[0m\u001b[0;34m=\u001b[0m\u001b[0mopen\u001b[0m\u001b[0;34m(\u001b[0m \u001b[0mfile_source\u001b[0m\u001b[0;34m,\u001b[0m \u001b[0;34m\"r\"\u001b[0m\u001b[0;34m)\u001b[0m\u001b[0;34m;\u001b[0m \u001b[0mreader\u001b[0m \u001b[0;34m=\u001b[0m \u001b[0mcsv\u001b[0m\u001b[0;34m.\u001b[0m\u001b[0mreader\u001b[0m\u001b[0;34m(\u001b[0m\u001b[0mread_file\u001b[0m\u001b[0;34m)\u001b[0m\u001b[0;34m;\u001b[0m\u001b[0;34m\u001b[0m\u001b[0m\n\u001b[0m\u001b[1;32m      8\u001b[0m     \u001b[0;32mfor\u001b[0m \u001b[0mline\u001b[0m \u001b[0;32min\u001b[0m \u001b[0mreader\u001b[0m\u001b[0;34m:\u001b[0m\u001b[0;34m\u001b[0m\u001b[0m\n\u001b[1;32m      9\u001b[0m         \u001b[0mdata_read\u001b[0m\u001b[0;34m.\u001b[0m\u001b[0mappend\u001b[0m\u001b[0;34m(\u001b[0m\u001b[0mline\u001b[0m\u001b[0;34m)\u001b[0m\u001b[0;34m;\u001b[0m\u001b[0;34m\u001b[0m\u001b[0m\n",
      "\u001b[0;31mFileNotFoundError\u001b[0m: [Errno 2] No such file or directory: 'Data/Formatted/Air.csv'"
     ]
    }
   ],
   "source": [
    "# Parse the instrument measurements by membrane \n",
    "def parse_instrument_measurements(filename, file_list, variable_type):\n",
    "    filepath = os.path.join(\"Data\", filename + \".csv\")\n",
    "    time = []; temperature = []; membrane = []; \n",
    "    \n",
    "    file=open( filepath, \"r\"); reader = csv.reader(file);\n",
    "        \n",
    "    for line in reader: \n",
    "        temperature.append(line[1]); \n",
    "        membrane.append(line[2:8]); \n",
    "    \n",
    "    parse_original(file_list[0], temperature);\n",
    "    parse_original(file_list[1], membrane);\n",
    "\n",
    "# Parse instrument measurements into temperature and membrane types \n",
    "parse_instrument_measurements(filename, file_list, variable_type)\n",
    "\n",
    "# Parse the .csv to the variable types - cell, water, and air\n",
    "for i in range(len(file_list)):\n",
    "    parse_variable(file_list[i], variable_type[0], 0, 7)\n",
    "    parse_variable(file_list[i], variable_type[1], 6, 9)\n",
    "    "
   ]
  },
  {
   "cell_type": "code",
   "execution_count": null,
   "metadata": {
    "collapsed": true
   },
   "outputs": [],
   "source": [
    "# Build the time list \n",
    "def time_list(data):\n",
    "    length = len(data);\n",
    "    time = []; i = 0; \n",
    "    while i < length: time.append(i*15/60); i = i+1; \n",
    "    return(time)\n",
    "\n",
    "# Convert the data to a float \n",
    "def convert_to_float(data): \n",
    "    data_list_of_list = []; \n",
    "    \n",
    "    for line in data: \n",
    "        data_list = [];\n",
    "        \n",
    "        for measurement in line:  \n",
    "            if (len(measurement)) > 2:\n",
    "                measurement_float = float(measurement)\n",
    "                data_list.append(measurement_float);  \n",
    "                \n",
    "        data_list_of_list.append(data_list)\n",
    "        \n",
    "    return(data_list_of_list)\n"
   ]
  },
  {
   "cell_type": "code",
   "execution_count": null,
   "metadata": {
    "collapsed": true
   },
   "outputs": [],
   "source": [
    "# Box plots\n",
    "def box_plot_of_data(file): \n",
    "    \n",
    "    data = read_file(file); \n",
    "    data_float = convert_to_float(data); \n",
    "    plt.boxplot(data_float, showfliers=False);\n",
    "     \n",
    "    plt.title(file)\n",
    "    plt.xlabel(\"Time (hours)\"); plt.xlim([0,100])\n",
    "    plt.ylabel(\"Absorbance ?650nm (RFU)\"); plt.ylim([0,1.4])\n",
    "    \n",
    "\n",
    "#plt.figure(figsize=(30,10))\n",
    "\n",
    "#box_plot_of_data(\"Membrane_Cell\")\n",
    "#box_plot_of_data(\"PDMS_Cell\")\n",
    "#box_plot_of_data(\"Membrane_Water\")\n",
    "#box_plot_of_data(\"PDMS_Water\")\n",
    "#box_plot_of_data(\"Membrane_Air\")\n",
    "#box_plot_of_data(\"PDMS_Air\")\n",
    "\n",
    "#plt.show()\n",
    "\n",
    "#file_save = os.path.join(\"Figures\", \"BoxPlot_\" + \".png\")\n",
    "#plt.savefig(file_save)\n",
    "\n"
   ]
  },
  {
   "cell_type": "code",
   "execution_count": null,
   "metadata": {
    "collapsed": true
   },
   "outputs": [],
   "source": [
    "# Find the average and stdev \n",
    "def scatter_average(file):\n",
    "    data = read_file(file); \n",
    "    float_data = convert_to_float(data);\n",
    "    \n",
    "    average_list = []; stdev_list = []; \n",
    "    for line in float_data:\n",
    "        if len(line) > 0:\n",
    "            average = sum(line)/len(line); average_list.append(average); \n",
    "            stdev = statistics.stdev(line); stdev_list.append(stdev);\n",
    "    \n",
    "    return(average_list, stdev_list)\n"
   ]
  },
  {
   "cell_type": "code",
   "execution_count": null,
   "metadata": {
    "collapsed": true
   },
   "outputs": [],
   "source": [
    "# Scatter plot of the averages and error\n",
    "def scatter_average_with_error(data_file, max_time):\n",
    "    average, stdev = scatter_average(data_file); \n",
    "    time = time_list(average); \n",
    "    plt.errorbar(time, average, yerr=stdev, label = data_file)\n",
    "    plt.xlabel(\"Time (hours)\"); plt.xlim([0,max_time])\n",
    "    plt.ylabel(\"Absorbance ?650nm (RFU)\"); plt.ylim([0,1.6])\n",
    "    plt.title(\"Measurement Average with Error Bars\")\n",
    "    #plt.legend(bbox_to_anchor=(1, 1));\n",
    "    plt.legend()\n",
    "    "
   ]
  },
  {
   "cell_type": "code",
   "execution_count": null,
   "metadata": {},
   "outputs": [],
   "source": [
    "# Build the scatter plots with the error \n",
    "max_time_interval = [96, 72, 56, 48, 36, 24, 12]; \n",
    "for j in range(len(max_time_interval)):\n",
    "    plt.figure(figsize=(8,4));\n",
    "    \n",
    "    for i in range(len(data_files)):\n",
    "        scatter_average_with_error(data_files[i], max_time_interval[j])\n",
    "    \n",
    "    files_save = os.path.join(\"Figures\", \"Measurement Average with Error Bars for \" + str(max_time_interval[j]) + \" hours.png\");\n",
    "    plt.savefig(files_save, dpi=600)\n",
    "    plt.show()\n"
   ]
  },
  {
   "cell_type": "code",
   "execution_count": null,
   "metadata": {
    "collapsed": true
   },
   "outputs": [],
   "source": [
    "\n"
   ]
  }
 ],
 "metadata": {
  "kernelspec": {
   "display_name": "Python 3",
   "language": "python",
   "name": "python3"
  },
  "language_info": {
   "codemirror_mode": {
    "name": "ipython",
    "version": 3
   },
   "file_extension": ".py",
   "mimetype": "text/x-python",
   "name": "python",
   "nbconvert_exporter": "python",
   "pygments_lexer": "ipython3",
   "version": "3.6.3"
  }
 },
 "nbformat": 4,
 "nbformat_minor": 2
}
