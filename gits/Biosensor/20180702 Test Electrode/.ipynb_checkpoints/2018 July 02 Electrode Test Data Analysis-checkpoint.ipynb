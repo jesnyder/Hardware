{
 "cells": [
  {
   "cell_type": "code",
   "execution_count": 3,
   "metadata": {
    "collapsed": true
   },
   "outputs": [],
   "source": [
    "import matplotlib.pyplot as plt; import numpy as np; import pylab; import os; import plotly.plotly as py;\n",
    "import plotly.tools as tls\n",
    "from statsmodels import robust\n"
   ]
  },
  {
   "cell_type": "code",
   "execution_count": 4,
   "metadata": {},
   "outputs": [],
   "source": [
    "# First create a speciment list to read in all the data files. \n",
    "# Function to create a list of specimen names from the specimen key file. \n",
    "def parse_specimen_key():\n",
    "    data = [];a=[];b=[];c=[];d=[];e=[];f=[];g=[];h=[];i=[];j=[];k=[];\n",
    "    f = open(\"Specimen Key.txt\",'r')\n",
    "    for line in f: data.append(line)\n",
    "    f.close()   \n",
    "    for i in range(len(data)):\n",
    "        a1,b1,c1,d1,e1,f1,g1,h1,i1,j1,k1 = data[i].split(\",\")\n",
    "        h.append(h1)  \n",
    "    del h[0]; return (h)\n",
    "\n",
    "specimen__name_list = parse_specimen_key()"
   ]
  },
  {
   "cell_type": "code",
   "execution_count": 5,
   "metadata": {
    "collapsed": true
   },
   "outputs": [],
   "source": [
    "# Build filename for look up file in raw data\n",
    "def build_filename(specimen_name, measurement_type):\n",
    "    filename = (specimen_name + measurement_type + \".txt\")\n",
    "    filename = os.path.join(\"Raw_Data\",\"Editted Filenames\", filename)\n",
    "    \n",
    "    return(filename)"
   ]
  },
  {
   "cell_type": "code",
   "execution_count": 6,
   "metadata": {
    "collapsed": true
   },
   "outputs": [],
   "source": [
    "# Function to create a parse the voltage and current from .txt data files. \n",
    "def parse_data(filename):\n",
    "    data = []; time = []; voltage = []; current = [];\n",
    "    f = open(filename,'r')\n",
    "    for line in f: data.append(line)\n",
    "    f.close()   \n",
    "    for i in range(len(data)):\n",
    "        t, v, c = data[i].split(\",\")\n",
    "        time.append(float(t))\n",
    "        voltage.append(float(v))\n",
    "        current.append(float(c)) \n",
    "        \n",
    "    return (time, voltage, current)"
   ]
  },
  {
   "cell_type": "code",
   "execution_count": 7,
   "metadata": {},
   "outputs": [
    {
     "ename": "FileNotFoundError",
     "evalue": "[Errno 2] No such file or directory: 'Raw_Data/Editted Filenames/1 Baked Not Shocked With Probe DNA Fixed After Target DNA.txt'",
     "output_type": "error",
     "traceback": [
      "\u001b[0;31m---------------------------------------------------------------------------\u001b[0m",
      "\u001b[0;31mFileNotFoundError\u001b[0m                         Traceback (most recent call last)",
      "\u001b[0;32m<ipython-input-7-153e2986cf41>\u001b[0m in \u001b[0;36m<module>\u001b[0;34m()\u001b[0m\n\u001b[1;32m     26\u001b[0m             \u001b[0mplt\u001b[0m\u001b[0;34m.\u001b[0m\u001b[0mshow\u001b[0m\u001b[0;34m(\u001b[0m\u001b[0;34m)\u001b[0m\u001b[0;34m\u001b[0m\u001b[0m\n\u001b[1;32m     27\u001b[0m \u001b[0;34m\u001b[0m\u001b[0m\n\u001b[0;32m---> 28\u001b[0;31m \u001b[0mplot_data\u001b[0m\u001b[0;34m(\u001b[0m\u001b[0mspecimen__name_list\u001b[0m\u001b[0;34m)\u001b[0m\u001b[0;34m\u001b[0m\u001b[0m\n\u001b[0m",
      "\u001b[0;32m<ipython-input-7-153e2986cf41>\u001b[0m in \u001b[0;36mplot_data\u001b[0;34m(specimen_name_list)\u001b[0m\n\u001b[1;32m     14\u001b[0m             \u001b[0;32mfor\u001b[0m \u001b[0mi\u001b[0m \u001b[0;32min\u001b[0m \u001b[0mrange\u001b[0m\u001b[0;34m(\u001b[0m\u001b[0mlen\u001b[0m\u001b[0;34m(\u001b[0m\u001b[0mmeasurement_type\u001b[0m\u001b[0;34m)\u001b[0m\u001b[0;34m)\u001b[0m\u001b[0;34m:\u001b[0m\u001b[0;34m\u001b[0m\u001b[0m\n\u001b[1;32m     15\u001b[0m                 \u001b[0mfilename\u001b[0m \u001b[0;34m=\u001b[0m \u001b[0mbuild_filename\u001b[0m\u001b[0;34m(\u001b[0m\u001b[0mspecimen_name\u001b[0m\u001b[0;34m,\u001b[0m \u001b[0mmeasurement_type\u001b[0m\u001b[0;34m[\u001b[0m\u001b[0mi\u001b[0m\u001b[0;34m]\u001b[0m\u001b[0;34m)\u001b[0m\u001b[0;34m\u001b[0m\u001b[0m\n\u001b[0;32m---> 16\u001b[0;31m                 \u001b[0mtime\u001b[0m\u001b[0;34m,\u001b[0m \u001b[0mvoltage\u001b[0m\u001b[0;34m,\u001b[0m \u001b[0mcurrent\u001b[0m \u001b[0;34m=\u001b[0m \u001b[0mparse_data\u001b[0m\u001b[0;34m(\u001b[0m\u001b[0mfilename\u001b[0m\u001b[0;34m)\u001b[0m\u001b[0;34m\u001b[0m\u001b[0m\n\u001b[0m\u001b[1;32m     17\u001b[0m                 \u001b[0mplt\u001b[0m\u001b[0;34m.\u001b[0m\u001b[0mplot\u001b[0m\u001b[0;34m(\u001b[0m\u001b[0mvoltage\u001b[0m\u001b[0;34m,\u001b[0m \u001b[0mcurrent\u001b[0m\u001b[0;34m,\u001b[0m \u001b[0mcolor\u001b[0m\u001b[0;34m=\u001b[0m\u001b[0mplot_color\u001b[0m\u001b[0;34m[\u001b[0m\u001b[0mi\u001b[0m\u001b[0;34m]\u001b[0m\u001b[0;34m,\u001b[0m \u001b[0mlinestyle\u001b[0m\u001b[0;34m=\u001b[0m\u001b[0mplot_linestyle\u001b[0m\u001b[0;34m[\u001b[0m\u001b[0mi\u001b[0m\u001b[0;34m]\u001b[0m\u001b[0;34m,\u001b[0m \u001b[0mlabel\u001b[0m\u001b[0;34m=\u001b[0m\u001b[0mmeasurement_type\u001b[0m\u001b[0;34m[\u001b[0m\u001b[0mi\u001b[0m\u001b[0;34m]\u001b[0m\u001b[0;34m)\u001b[0m\u001b[0;34m\u001b[0m\u001b[0m\n\u001b[1;32m     18\u001b[0m                 \u001b[0mpylab\u001b[0m\u001b[0;34m.\u001b[0m\u001b[0mlegend\u001b[0m\u001b[0;34m(\u001b[0m\u001b[0mloc\u001b[0m\u001b[0;34m=\u001b[0m\u001b[0;34m'upper left'\u001b[0m\u001b[0;34m,\u001b[0m\u001b[0mbbox_to_anchor\u001b[0m\u001b[0;34m=\u001b[0m\u001b[0;34m(\u001b[0m\u001b[0;36m1\u001b[0m\u001b[0;34m,\u001b[0m\u001b[0;36m1\u001b[0m\u001b[0;34m)\u001b[0m\u001b[0;34m)\u001b[0m\u001b[0;34m\u001b[0m\u001b[0m\n",
      "\u001b[0;32m<ipython-input-6-4ffb36fe6f10>\u001b[0m in \u001b[0;36mparse_data\u001b[0;34m(filename)\u001b[0m\n\u001b[1;32m      2\u001b[0m \u001b[0;32mdef\u001b[0m \u001b[0mparse_data\u001b[0m\u001b[0;34m(\u001b[0m\u001b[0mfilename\u001b[0m\u001b[0;34m)\u001b[0m\u001b[0;34m:\u001b[0m\u001b[0;34m\u001b[0m\u001b[0m\n\u001b[1;32m      3\u001b[0m     \u001b[0mdata\u001b[0m \u001b[0;34m=\u001b[0m \u001b[0;34m[\u001b[0m\u001b[0;34m]\u001b[0m\u001b[0;34m;\u001b[0m \u001b[0mtime\u001b[0m \u001b[0;34m=\u001b[0m \u001b[0;34m[\u001b[0m\u001b[0;34m]\u001b[0m\u001b[0;34m;\u001b[0m \u001b[0mvoltage\u001b[0m \u001b[0;34m=\u001b[0m \u001b[0;34m[\u001b[0m\u001b[0;34m]\u001b[0m\u001b[0;34m;\u001b[0m \u001b[0mcurrent\u001b[0m \u001b[0;34m=\u001b[0m \u001b[0;34m[\u001b[0m\u001b[0;34m]\u001b[0m\u001b[0;34m;\u001b[0m\u001b[0;34m\u001b[0m\u001b[0m\n\u001b[0;32m----> 4\u001b[0;31m     \u001b[0mf\u001b[0m \u001b[0;34m=\u001b[0m \u001b[0mopen\u001b[0m\u001b[0;34m(\u001b[0m\u001b[0mfilename\u001b[0m\u001b[0;34m,\u001b[0m\u001b[0;34m'r'\u001b[0m\u001b[0;34m)\u001b[0m\u001b[0;34m\u001b[0m\u001b[0m\n\u001b[0m\u001b[1;32m      5\u001b[0m     \u001b[0;32mfor\u001b[0m \u001b[0mline\u001b[0m \u001b[0;32min\u001b[0m \u001b[0mf\u001b[0m\u001b[0;34m:\u001b[0m \u001b[0mdata\u001b[0m\u001b[0;34m.\u001b[0m\u001b[0mappend\u001b[0m\u001b[0;34m(\u001b[0m\u001b[0mline\u001b[0m\u001b[0;34m)\u001b[0m\u001b[0;34m\u001b[0m\u001b[0m\n\u001b[1;32m      6\u001b[0m     \u001b[0mf\u001b[0m\u001b[0;34m.\u001b[0m\u001b[0mclose\u001b[0m\u001b[0;34m(\u001b[0m\u001b[0;34m)\u001b[0m\u001b[0;34m\u001b[0m\u001b[0m\n",
      "\u001b[0;31mFileNotFoundError\u001b[0m: [Errno 2] No such file or directory: 'Raw_Data/Editted Filenames/1 Baked Not Shocked With Probe DNA Fixed After Target DNA.txt'"
     ]
    }
   ],
   "source": [
    "# Graph each specimen to observe general trends during the epxeriment. \n",
    "# Identify conclusive datasets for further analysis. \n",
    "\n",
    "# Function to plot the voltage vs current\n",
    "def plot_data(specimen_name_list):    \n",
    "    measurement_type = [\" Baseline\", \" After Probe DNA\", \" After Target DNA\",\" Fixed After Target DNA\"]\n",
    "    plot_color = [\"black\",\"blue\",\"red\",\"green\"]\n",
    "    plot_linestyle = [\":\",\"--\",\"--\",\"--\"]\n",
    "        \n",
    "    for k in range(len(specimen_name_list)): \n",
    "        specimen_name = specimen_name_list[k]\n",
    "        \n",
    "        for j in range(1):        \n",
    "            for i in range(len(measurement_type)): \n",
    "                filename = build_filename(specimen_name, measurement_type[i])      \n",
    "                time, voltage, current = parse_data(filename)\n",
    "                plt.plot(voltage, current, color=plot_color[i], linestyle=plot_linestyle[i], label=measurement_type[i])\n",
    "                pylab.legend(loc='upper left',bbox_to_anchor=(1,1))\n",
    "  \n",
    "            plt.xlabel('Voltage (V)'); \n",
    "            plt.ylabel('Current (Amps)'); plt.ylim((0,120))\n",
    "            plt.title(specimen_name)\n",
    "        \n",
    "            filename = os.path.join(\"Figures\",\"Each Electrode\", specimen_name + '.jpg')\n",
    "            plt.savefig(filename, bbox_inches='tight') \n",
    "            plt.show()  \n",
    "        \n",
    "plot_data(specimen__name_list)"
   ]
  },
  {
   "cell_type": "code",
   "execution_count": null,
   "metadata": {},
   "outputs": [],
   "source": [
    "# Function to plot the voltage vs current\n",
    "def plot_data(specimen_name_list, title):    \n",
    "    measurement_type = [\" Baseline\", \" After Probe DNA\", \" After Target DNA\",\" Fixed After Target DNA\"]\n",
    "    plot_color = [[.2,.2,.2],[1,0,0],[0,1,0],[.3,.3,1]]\n",
    "    plot_linestyle = [\":\",\"--\"]\n",
    "    probe_variable = [\" With Probe\",\" Without Probe\"]\n",
    "        \n",
    "    for k in range(len(specimen_name_list)): \n",
    "        specimen_name = specimen_name_list[k]\n",
    "        \n",
    "        for j in range(1):        \n",
    "            for i in range(len(measurement_type)): \n",
    "                filename = build_filename(specimen_name, measurement_type[i])      \n",
    "                time, voltage, current = parse_data(filename)\n",
    "                label_name = (measurement_type[i] + probe_variable[k])    \n",
    "                plt.plot(voltage, current, color=plot_color[i], linestyle=plot_linestyle[k], label=label_name)\n",
    "                pylab.legend(loc='upper left',bbox_to_anchor=(1,1))\n",
    "  \n",
    "    plt.xlabel('Voltage (V)'); \n",
    "    plt.ylabel('Current (Amps)'); #plt.ylim((0,120))\n",
    "    plt.title(title)\n",
    "        \n",
    "    filename = os.path.join(\"Figures\",\"Comparison with and without Prbe DNA\", specimen_name + '.jpg')\n",
    "    plt.savefig(filename, bbox_inches='tight')  \n",
    "    plt.show()  \n",
    " \n",
    "specimen_short_list = specimen__name_list\n",
    "\n",
    "unbaked_short_list = [specimen_short_list[0],specimen_short_list[2]]\n",
    "plot_data(unbaked_short_list, \"Unbaked Not Shocked\")\n",
    "\n",
    "unbaked_short_list = [specimen_short_list[4],specimen_short_list[7]]\n",
    "plot_data(unbaked_short_list, \"Baked Not Shocked\")\n"
   ]
  },
  {
   "cell_type": "code",
   "execution_count": null,
   "metadata": {},
   "outputs": [],
   "source": [
    "# Whisker plot of voltage \n",
    "def mad(arr):\n",
    "    \"\"\" Median Absolute Deviation: a \"Robust\" version of standard deviation.\n",
    "        Indices variabililty of the sample.\n",
    "        https://en.wikipedia.org/wiki/Median_absolute_deviation \n",
    "    \"\"\"\n",
    "    arr = np.ma.array(arr).compressed() # should be faster to not use masked arrays.\n",
    "    med = np.median(arr)\n",
    "    return np.median(np.abs(arr - med))\n",
    "\n",
    "\n",
    "def whisker_plot_data(specimen_name_list):    \n",
    "    measurement_type = [\" Baseline\", \" After Probe DNA\", \" After Target DNA\",\" Fixed After Target DNA\"]  \n",
    "    \n",
    "    currents = [];\n",
    "    number = 1;\n",
    "    i = 1;\n",
    "    \n",
    "\n",
    "    for k in range(3):    \n",
    "        specimen_name = specimen_name_list[k]             \n",
    "        filename = build_filename(specimen_name, measurement_type[i])\n",
    "        print(filename)\n",
    "        \n",
    "        time, voltage, current = parse_data(filename)\n",
    "        print()\n",
    "        currents = [currents, current]\n",
    "        del currents[0]\n",
    "        print(currents)\n",
    "\n",
    "        sample_number = [n * 0 + number for n in current]; number = number+1;\n",
    "              \n",
    "            \n",
    "        plt.figure()\n",
    "        plt.scatter(sample_number, current, color = [.9,.9,.9])\n",
    "    \n",
    "    plt.boxplot(currents)\n",
    "    \n",
    "    fig, ax = plt.subplots()\n",
    "    pos = np.array(range(len(currents))) + 1\n",
    "    bp = ax.boxplot(currents, sym='k+', positions=pos,\n",
    "                notch=1, bootstrap=5000,\n",
    "                usermedians=medians,\n",
    "                conf_intervals=conf_intervals)\n",
    "  \n",
    "    plt.xlabel('Specimen Type'); \n",
    "    plt.ylabel('Current (Amps)'); #plt.ylim((0,120))\n",
    "        \n",
    "    filename = os.path.join(\"Figures\",\"Whisker Plots\", specimen_name + '.jpg')\n",
    "    plt.savefig(filename) \n",
    "    plt.show()  \n",
    " \n",
    "\n",
    "\n",
    "whisker_plot_data(specimen__name_list)\n"
   ]
  }
 ],
 "metadata": {
  "kernelspec": {
   "display_name": "Python 3",
   "language": "python",
   "name": "python3"
  },
  "language_info": {
   "codemirror_mode": {
    "name": "ipython",
    "version": 3
   },
   "file_extension": ".py",
   "mimetype": "text/x-python",
   "name": "python",
   "nbconvert_exporter": "python",
   "pygments_lexer": "ipython3",
   "version": "3.6.3"
  }
 },
 "nbformat": 4,
 "nbformat_minor": 2
}
