{
 "cells": [
  {
   "cell_type": "code",
   "execution_count": 1,
   "metadata": {
    "collapsed": true
   },
   "outputs": [],
   "source": [
    "from datetime import datetime # to retrieve the current time and data\n",
    "import math # how to use math.pow(value, power)\n",
    "import matplotlib.pyplot as plt # generate plots\n",
    "import numpy as np\n",
    "import os # to join strings into directory paths\n",
    "import pandas as pd # dataframes\n",
    "import random # generate random numbers\n",
    "import statistics # to calculate the standard deviation\n",
    "from scipy import stats # p value calculation - http://python-ds.com/python-p-value\n",
    "from scipy.optimize import curve_fit\n"
   ]
  },
  {
   "cell_type": "code",
   "execution_count": 2,
   "metadata": {
    "collapsed": true
   },
   "outputs": [],
   "source": [
    "original_measurement_filename = 'original_measurements.txt'\n",
    "well_description_file = \"each_well_description.txt\"\n",
    "\n"
   ]
  },
  {
   "cell_type": "code",
   "execution_count": 3,
   "metadata": {
    "collapsed": true
   },
   "outputs": [],
   "source": [
    "def is_number(a):\n",
    "    \"\"\"\n",
    "    # will be True also for 'NaN'\n",
    "    \"\"\"\n",
    "\n",
    "    try:\n",
    "        number = float(a)\n",
    "        return(\"yes\")\n",
    "    \n",
    "    except ValueError:\n",
    "        return(\"no\")\n"
   ]
  },
  {
   "cell_type": "code",
   "execution_count": 4,
   "metadata": {
    "collapsed": true
   },
   "outputs": [],
   "source": [
    "def read_original_measurements():\n",
    "    \"\"\"\n",
    "    \n",
    "    \"\"\"\n",
    "    measurements = []\n",
    "    readings = []\n",
    "    \n",
    "    with open(original_measurement_filename,'r') as ReadFile: \n",
    "        \n",
    "        for row in ReadFile:\n",
    "            \n",
    "            row = row.split(\"\\t\")\n",
    "             \n",
    "            for item in row: \n",
    "                \n",
    "                a = is_number(item)\n",
    "                    \n",
    "                if a == \"yes\":\n",
    "                    measurements.append(float(item))\n",
    "                    \n",
    "                if \":\" in str(item):\n",
    "                    measurements.append(item)\n",
    "                    \n",
    "    return(measurements)\n"
   ]
  },
  {
   "cell_type": "code",
   "execution_count": 5,
   "metadata": {
    "collapsed": true
   },
   "outputs": [],
   "source": [
    "def build_dataframe(measurements):\n",
    "    \"\"\"\n",
    "    \n",
    "    \"\"\"\n",
    "    \n",
    "    times = []\n",
    "    readings = []\n",
    "    for i in range(len(measurements)):\n",
    "        \n",
    "        if \":\" in str(measurements[i]):\n",
    "            \n",
    "            time_clock = measurements[i]\n",
    "            time_split = time_clock.split(\":\")\n",
    "            \n",
    "            if len(time_split) == 2:\n",
    "                time_hour = float(time_split[0])*1/60 + float(time_split[1])*1/60*1/60 \n",
    "            \n",
    "            if len(time_split) == 3:\n",
    "                time_hour = float(time_split[0]) + float(time_split[1])*1/60 + float(time_split[2])*1/60*1/60 \n",
    "            \n",
    "            times.append(time_hour)\n",
    "            \n",
    "            readings = [time_hour]\n",
    "            \n",
    "            well_readings = measurements[i+1:i+98]\n",
    "            \n",
    "            for item in well_readings:\n",
    "                well_readings.append(item)\n",
    "            \n",
    "            readings.append(well_readings)\n",
    "        \n",
    "    df = pd.DataFrame(readings)\n",
    "    \n",
    "    \n",
    "    return(df, times)"
   ]
  },
  {
   "cell_type": "code",
   "execution_count": 6,
   "metadata": {
    "collapsed": true
   },
   "outputs": [],
   "source": [
    "def find_extreme(b):\n",
    "    \"\"\"\n",
    "    \n",
    "    \"\"\"\n",
    "    \n",
    "    if len(b) > 0:\n",
    "        mean_b = sum(b)/len(b)\n",
    "    \n",
    "    else:\n",
    "        mean_b = 0\n",
    "    \n",
    "    max_b, min_b, index_max_b, index_min_b = mean_b, mean_b, 0, 0\n",
    "    \n",
    "    for i in range(len(b)):\n",
    "        \n",
    "        if b[i] < min_b:\n",
    "            min_b = b[i]\n",
    "            index_min_b = i\n",
    "            \n",
    "        if b[i] > max_b:\n",
    "            max_b = b[i]\n",
    "            index_max_b = i\n",
    "            \n",
    "    return(max_b, min_b, index_max_b, index_min_b)\n"
   ]
  },
  {
   "cell_type": "code",
   "execution_count": null,
   "metadata": {
    "collapsed": true
   },
   "outputs": [],
   "source": []
  },
  {
   "cell_type": "code",
   "execution_count": null,
   "metadata": {
    "collapsed": true
   },
   "outputs": [],
   "source": []
  },
  {
   "cell_type": "code",
   "execution_count": null,
   "metadata": {
    "collapsed": true
   },
   "outputs": [],
   "source": []
  },
  {
   "cell_type": "code",
   "execution_count": null,
   "metadata": {
    "collapsed": true
   },
   "outputs": [],
   "source": []
  },
  {
   "cell_type": "code",
   "execution_count": 7,
   "metadata": {
    "collapsed": true
   },
   "outputs": [],
   "source": [
    "def retrieve_well_description(well_number):\n",
    "    \"\"\"\n",
    "    From the well number, \n",
    "    refer to a refereence file also saved in the program folder,\n",
    "    return the well name, spore count, and alanine molarity\n",
    "    \"\"\"\n",
    "    \n",
    "     \n",
    "    well_name, spore_count, alanine_mM  = 0, 0, 0\n",
    "    \n",
    "    with open(well_description_file,'r') as ReadFile: \n",
    "        \n",
    "        for row in ReadFile:\n",
    "            row = row.split(\",\")\n",
    "            \n",
    "            a = is_number(row[0]) \n",
    "            \n",
    "            if a == \"yes\":\n",
    "                if int(row[0]) == int(well_number):\n",
    "                    \n",
    "                    well_name = row[1]\n",
    "                    spore_count = row[2]\n",
    "                    alanine_mM = row[3]    \n",
    "    \n",
    "    return well_name, spore_count, alanine_mM \n",
    "    "
   ]
  },
  {
   "cell_type": "code",
   "execution_count": 8,
   "metadata": {
    "collapsed": true
   },
   "outputs": [],
   "source": [
    "def assign_color_experiment_parameters(well_num):\n",
    "    \"\"\"\n",
    "    \n",
    "    \"\"\"\n",
    "    color_set = [1,1,1]\n",
    "    \n",
    "    well_name, spore_count, alanine_mM = retrieve_well_description(well_num)\n",
    "    \n",
    "    # Adjust color for spore count variable\n",
    "    if float(spore_count) == 100: \n",
    "        color_set[1] = 0.05\n",
    "        \n",
    "    elif float(spore_count) == 10: \n",
    "        color_set[1] = 0.3\n",
    "    \n",
    "    elif float(spore_count) == 1: \n",
    "        color_set[1] = 0.6\n",
    "        \n",
    "    elif float(spore_count) == .1: \n",
    "        color_set[1] = 0.95\n",
    "        \n",
    "    # Adjust color for alanine variable\n",
    "    if float(alanine_mM) == 1: \n",
    "        color_set[0] = 0.95\n",
    "        color_set[2] = 0.05\n",
    "\n",
    "    else: \n",
    "        color_set[0] = 0.05\n",
    "        color_set[2] = 0.95\n",
    "            \n",
    "    return(color_set)\n",
    "    "
   ]
  },
  {
   "cell_type": "code",
   "execution_count": 9,
   "metadata": {
    "collapsed": true
   },
   "outputs": [],
   "source": [
    "def plot_experimental_variables():\n",
    "    \"\"\"\n",
    "    From the text file describing each well's experimental variables\n",
    "    Plot each variable group\n",
    "    \"\"\"\n",
    "    \n",
    "    well_num_list, well_name_list, spore_count_list, alanine_mM_list = [], [], [], []\n",
    "    \n",
    "    for well_num in range(96):\n",
    "        well_name, spore_count, alanine_mM = retrieve_well_description(well_num)\n",
    "        \n",
    "        if well_num > 0: \n",
    "            well_num_list.append(well_num)\n",
    "            well_name_list.append(well_num)\n",
    "            spore_count_list.append(spore_count)\n",
    "            alanine_mM_list.append(alanine_mM)\n",
    "            \n",
    "    # Initiate a new figure  \n",
    "    fig_rows, fig_columns, subplot_number = 1, 3, 0\n",
    "    fig = plt.figure(figsize=(fig_columns*6, fig_rows*6))\n",
    "    \n",
    "    subplot_number += 1\n",
    "    plt.subplot(fig_rows, fig_columns, subplot_number)\n",
    "    \n",
    "    plt.scatter(well_num_list, spore_count_list)\n",
    "    for well_num in well_num_list: \n",
    "        color_set = assign_color_experiment_parameters(well_num) \n",
    "        plt.scatter(well_num, spore_count_list[well_num_list.index(well_num)], color = color_set)      \n",
    "    plt.xlabel(\"Well Number\")\n",
    "    plt.ylabel(\"Spore Count (millions)\")\n",
    "    plt.title(\"Spore Count Per Well\")\n",
    "   \n",
    "    subplot_number += 1\n",
    "    plt.subplot(fig_rows, fig_columns, subplot_number)\n",
    "    \n",
    "    plt.scatter(well_num_list, alanine_mM_list)\n",
    "    for well_num in well_num_list: \n",
    "        color_set = assign_color_experiment_parameters(well_num) \n",
    "        plt.scatter(well_num, alanine_mM_list[well_num_list.index(well_num)], color = color_set)      \n",
    "    plt.xlabel(\"Well Number\")\n",
    "    plt.ylabel(\"Alanine Concentration (mM)\")\n",
    "    plt.title(\"Alanine Concentration Per Well\")\n",
    "\n",
    "    subplot_number += 1\n",
    "    plt.subplot(fig_rows, fig_columns, subplot_number)\n",
    "    plt.scatter(spore_count_list, alanine_mM_list)\n",
    "    for well_num in well_num_list: \n",
    "        color_set = assign_color_experiment_parameters(well_num) \n",
    "        plt.scatter(spore_count_list[well_num_list.index(well_num)], alanine_mM_list[well_num_list.index(well_num)], color = color_set)      \n",
    "    plt.xlabel(\"Spore Count (millions)\")\n",
    "    plt.ylabel(\"Alanine Concentration (mM)\")\n",
    "    plt.title(\"Alanine Concentration vs Spore Count\")\n",
    "    \n",
    "    save_figure_name = os.path.join( \"Figures\", 'Summary', 'Metadata' + '.jpg')\n",
    "    plt.savefig(save_figure_name, bbox_inches='tight')\n",
    "\n",
    "    plt.show()\n",
    "            "
   ]
  },
  {
   "cell_type": "code",
   "execution_count": 10,
   "metadata": {
    "collapsed": true
   },
   "outputs": [],
   "source": [
    "def plot_whole_group(well_num, df, times, opposite):\n",
    "    \"\"\"\n",
    "    \n",
    "    \"\"\"  \n",
    "    # List all well numbers within a group \n",
    "    well_name, spore_count, alanine_mM = retrieve_well_description(well_num)\n",
    "    \n",
    "    if opposite == 'opposite':\n",
    "        if float(alanine_mM) == 0:\n",
    "            alanine_mM = 1\n",
    "            color_set = [.95, .85, .85]\n",
    "    \n",
    "        else: \n",
    "            alanine_mM = 0\n",
    "            color_set = [.85, .85, .95]\n",
    "    \n",
    "    if float(alanine_mM) == 0:\n",
    "        color_set = [.85, .85, .95]\n",
    "    \n",
    "    else: \n",
    "        color_set = [.95, .85, .85]\n",
    "        \n",
    "    description = str(spore_count) + ' mln Spores + ' + str(alanine_mM) + ' mM Alanine'\n",
    "    well_num_list = []\n",
    "    with open(well_description_file,'r') as ReadFile: \n",
    "        \n",
    "        for row in ReadFile:\n",
    "            row = row.split(\",\")\n",
    "            a = is_number(row[0]) \n",
    "            if a == \"yes\":\n",
    "                if float(row[2]) == float(spore_count):\n",
    "                    if float(row[3]) == float(alanine_mM):\n",
    "                        well_num_list.append(row[0])\n",
    "                        \n",
    "    measurements_all, times_all = [], []\n",
    "    for well_num in well_num_list:\n",
    "        i = int(well_num) - 1\n",
    "        all_measurements_from_one_well = df.iloc[:, i]\n",
    "        \n",
    "        for item in all_measurements_from_one_well: \n",
    "            measurements_all.append(item)\n",
    "        \n",
    "        for time in times: \n",
    "            times_all.append(time)\n",
    "        \n",
    "    plt.scatter(times_all, measurements_all, color = color_set, label = description)\n",
    "    \n",
    "    "
   ]
  },
  {
   "cell_type": "code",
   "execution_count": null,
   "metadata": {
    "collapsed": true
   },
   "outputs": [],
   "source": []
  },
  {
   "cell_type": "code",
   "execution_count": 11,
   "metadata": {
    "collapsed": true
   },
   "outputs": [],
   "source": [
    "def calculate_growth_constant(times, all_measurements_from_one_well):\n",
    "    \"\"\"\n",
    "    \n",
    "    \"\"\"\n",
    "    times_list, slope_list = [], []\n",
    "    \n",
    "    max_b, min_b, index_max_b, index_min_b = find_extreme(all_measurements_from_one_well)\n",
    "    \n",
    "    for i in range(len(all_measurements_from_one_well)): \n",
    "    \n",
    "        if times[i] != 0: \n",
    "            slope = all_measurements_from_one_well[i] / min_b\n",
    "            slope = math.log(slope)\n",
    "            slope = 1/times[i] *slope\n",
    "        \n",
    "            slope_list.append(slope)\n",
    "            times_list.append(times[i])\n",
    "        \n",
    "    return(times_list, slope_list)"
   ]
  },
  {
   "cell_type": "code",
   "execution_count": 12,
   "metadata": {
    "collapsed": true
   },
   "outputs": [],
   "source": [
    "def average_stdev_slope(times_list, slope_list, well_name):\n",
    "    \"\"\"\n",
    "    \n",
    "    \"\"\"\n",
    "    \n",
    "    times_list_truncated, slope_list_truncated = [], []\n",
    "    \n",
    "    for i in range(len(times_list)):\n",
    "        \n",
    "        if times_list[i] > 13 and times_list[i] < 17:\n",
    "   \n",
    "            times_list_truncated.append(times_list[i]) \n",
    "            slope_list_truncated.append(slope_list[i]) \n",
    "    \n",
    "    average_slope = sum(slope_list_truncated) / len(slope_list_truncated)\n",
    "    stdev_slope = statistics.stdev(slope_list_truncated)\n",
    "    \n",
    "    well_label = \"Well\" + str(well_name) + \" Growth Constant = \" + str(round(average_slope,6)) + \" +/-\" + str(round(stdev_slope,6))\n",
    " \n",
    "    return(times_list_truncated, slope_list_truncated, average_slope, stdev_slope, well_label)"
   ]
  },
  {
   "cell_type": "code",
   "execution_count": 13,
   "metadata": {
    "collapsed": true
   },
   "outputs": [],
   "source": [
    "def plot_linear_regression(times, all_measurements_from_one_well, well_num):\n",
    "    \"\"\"\n",
    "    \n",
    "    \"\"\"\n",
    "    color_set = assign_color_experiment_parameters(well_num)\n",
    "    well_name, spore_count, alanine_mM = retrieve_well_description(well_num)\n",
    "    \n",
    "    times_list, slope_list = calculate_growth_constant(times, all_measurements_from_one_well)\n",
    "    \n",
    "    times_list_truncated, slope_list_truncated, average_slope, stdev_slope, well_label = average_stdev_slope(times_list, slope_list, well_name)\n",
    "    \n",
    "    xx = np.linspace(min(times_list_truncated), max(times_list_truncated), 50)\n",
    "    yy = np.linspace(average_slope, average_slope, 50)\n",
    "    plt.plot(xx, yy, color = color_set, linestyle= '--', label = well_label)\n",
    "    yy = np.linspace(average_slope + stdev_slope, average_slope + stdev_slope, 50)\n",
    "    plt.plot(xx, yy, color = color_set, linestyle= ':')\n",
    "    yy = np.linspace(average_slope - stdev_slope, average_slope - stdev_slope, 50)\n",
    "    plt.plot(xx, yy, color = color_set, linestyle= ':')\n",
    "    \n",
    "    plt.xlabel(\"Time Lapsed (hours)\")\n",
    "    plt.ylabel(\"Growth Constant (1 / hour)\")\n",
    "    plt.title(\"Well\" + str(well_name) + \" Growth Constant = \" + str(round(average_slope,6)) + \" +/-\" + str(round(stdev_slope,6)))\n",
    "    plt.legend(bbox_to_anchor=(1.05, .6))\n",
    "          \n",
    "          "
   ]
  },
  {
   "cell_type": "code",
   "execution_count": 14,
   "metadata": {
    "collapsed": true
   },
   "outputs": [],
   "source": [
    "def plot_whole_group_regression(well_num, df, times, opposite):\n",
    "    \"\"\"\n",
    "    \n",
    "    \"\"\"\n",
    "        # List all well numbers within a group \n",
    "    well_name, spore_count, alanine_mM = retrieve_well_description(well_num)\n",
    "    \n",
    "    if float(alanine_mM) == 0:\n",
    "        color_set = [.85, .85, .95]\n",
    "    \n",
    "    else: \n",
    "        color_set = [.95, .85, .85]\n",
    "        \n",
    "    if opposite == 'opposite':\n",
    "        if float(alanine_mM) == 0:\n",
    "            alanine_mM = 1\n",
    "            color_set = [.95, .85, .85]\n",
    "    \n",
    "        else: \n",
    "            alanine_mM = 0\n",
    "            color_set = [.85, .85, .95]\n",
    "        \n",
    "    description = str(spore_count) + ' mln Spores + ' + str(alanine_mM) + ' mM Alanine'\n",
    "    \n",
    "    well_num_list = []\n",
    "    \n",
    "    with open(well_description_file,'r') as ReadFile: \n",
    "        \n",
    "        for row in ReadFile:\n",
    "            row = row.split(\",\")\n",
    "            a = is_number(row[0]) \n",
    "            if a == \"yes\":\n",
    "                if float(row[2]) == float(spore_count):\n",
    "                    if float(row[3]) == float(alanine_mM):\n",
    "                        well_num_list.append(row[0])\n",
    "                        \n",
    "    measurements_all, times_all = [], []\n",
    "    \n",
    "    for well_num in well_num_list:\n",
    "    \n",
    "        i = int(well_num) - 1\n",
    "    \n",
    "        all_measurements_from_one_well = df.iloc[:, i]\n",
    "        \n",
    "        times_list, slope_list = calculate_growth_constant(times, all_measurements_from_one_well)    \n",
    "        \n",
    "        plt.scatter(times_list, slope_list, color = color_set)\n",
    "        \n",
    "    "
   ]
  },
  {
   "cell_type": "code",
   "execution_count": 15,
   "metadata": {
    "collapsed": true
   },
   "outputs": [],
   "source": [
    "def plot_each_well(df, times):\n",
    "    \"\"\"\n",
    "    \n",
    "    \"\"\"\n",
    "    \n",
    "    for i in range(len(df.iloc[0, :])):\n",
    "        \n",
    "        # Number the well and collect the measurements\n",
    "        well_num = i + 1\n",
    "        all_measurements_from_one_well = df.iloc[:, i]\n",
    "        \n",
    "        # Describe the well \n",
    "        well_name, spore_count, alanine_mM = retrieve_well_description(well_num)\n",
    "        description = ('Well ' + str(well_name) + ' (' +  str(spore_count) + '  mln Spores + '+ str(alanine_mM) + ' mM Alanine)')\n",
    "     \n",
    "        # Initiate a new figure  \n",
    "        fig_rows, fig_columns, subplot_number = 3, 2, 0\n",
    "        fig = plt.figure(figsize=(fig_columns*8, fig_rows*6))\n",
    "         \n",
    "        while subplot_number < 6: \n",
    "        \n",
    "            subplot_number += 1\n",
    "            plt.subplot(fig_rows, fig_columns, subplot_number)\n",
    "            color_set = assign_color_experiment_parameters(well_num) \n",
    "        \n",
    "            if subplot_number >= 5:\n",
    "                plot_whole_group(well_num, df, times, 'opposite')\n",
    "      \n",
    "            if subplot_number >= 3:\n",
    "                plot_whole_group(well_num, df, times, 'same')\n",
    "                \n",
    "            plt.scatter(times, all_measurements_from_one_well,  c = color_set, s = 30, label = str(well_name))\n",
    "                    \n",
    "            plt.xlabel(\"Time Lapsed (hours)\")\n",
    "            plt.ylabel(\"Kinetic Absorbance 650 nm\")\n",
    "            plt.title(\"Measurements of \" + description)\n",
    "            plt.legend(bbox_to_anchor=(-.2, .6))\n",
    "            \n",
    "            subplot_number += 1\n",
    "            plt.subplot(fig_rows, fig_columns, subplot_number)\n",
    "            \n",
    "            if subplot_number >= 6:\n",
    "                plot_whole_group_regression(well_num, df, times, 'opposite')\n",
    "           \n",
    "            if subplot_number >= 4:\n",
    "                plot_whole_group_regression(well_num, df, times, 'same')\n",
    "            \n",
    "            plot_linear_regression(times, all_measurements_from_one_well, well_num)\n",
    "                \n",
    "        save_figure_name = os.path.join( \"Figures\", \"Each Well\", well_name + '.jpg')\n",
    "        plt.savefig(save_figure_name, bbox_inches='tight')\n",
    "       \n",
    "        plt.show()\n",
    "        \n",
    "    "
   ]
  },
  {
   "cell_type": "code",
   "execution_count": null,
   "metadata": {
    "collapsed": true
   },
   "outputs": [],
   "source": []
  },
  {
   "cell_type": "code",
   "execution_count": null,
   "metadata": {
    "collapsed": true
   },
   "outputs": [],
   "source": [
    "def main():\n",
    "    \"\"\"\n",
    "    \n",
    "    \"\"\"\n",
    "    \n",
    "    print('hello')\n",
    "        \n",
    "    # Make dataframe with all measurements\n",
    "    \n",
    "    measurements = read_original_measurements()\n",
    "    \n",
    "    df, times = build_dataframe(measurements)\n",
    "    \n",
    "    print(df)\n",
    "\n",
    " \n",
    " \n",
    "    "
   ]
  },
  {
   "cell_type": "code",
   "execution_count": null,
   "metadata": {},
   "outputs": [
    {
     "name": "stdout",
     "output_type": "stream",
     "text": [
      "hello\n"
     ]
    }
   ],
   "source": [
    "if __name__ == \"__main__\":\n",
    "    main()\n",
    "    "
   ]
  }
 ],
 "metadata": {
  "kernelspec": {
   "display_name": "Python 3",
   "language": "python",
   "name": "python3"
  },
  "language_info": {
   "codemirror_mode": {
    "name": "ipython",
    "version": 3
   },
   "file_extension": ".py",
   "mimetype": "text/x-python",
   "name": "python",
   "nbconvert_exporter": "python",
   "pygments_lexer": "ipython3",
   "version": "3.6.3"
  }
 },
 "nbformat": 4,
 "nbformat_minor": 2
}
