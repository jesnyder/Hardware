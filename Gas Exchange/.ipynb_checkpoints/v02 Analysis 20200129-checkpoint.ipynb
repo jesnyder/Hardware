{
 "cells": [
  {
   "cell_type": "code",
   "execution_count": 1,
   "metadata": {},
   "outputs": [],
   "source": [
    "from datetime import datetime # to retrieve the current time and data\n",
    "import math # how to use math.pow(value, power)\n",
    "import matplotlib.pyplot as plt # generate plots\n",
    "import numpy as np\n",
    "import os # to join strings into directory paths\n",
    "import pandas as pd # dataframes\n",
    "import random # generate random numbers\n",
    "import statistics # to calculate the standard deviation\n",
    "from scipy import stats # p value calculation - http://python-ds.com/python-p-value\n",
    "from scipy.optimize import curve_fit\n"
   ]
  },
  {
   "cell_type": "code",
   "execution_count": 2,
   "metadata": {
    "collapsed": true
   },
   "outputs": [],
   "source": [
    "original_measurement_filename = 'exp_11-22-19_progress.txt'\n",
    "original_measurement_filename = 'original_measurements.txt'\n",
    "# original_measurement_filename = 'a.txt'\n"
   ]
  },
  {
   "cell_type": "code",
   "execution_count": 3,
   "metadata": {
    "collapsed": true
   },
   "outputs": [],
   "source": [
    "def is_number(a):\n",
    "    \"\"\"\n",
    "    # will be True also for 'NaN'\n",
    "    \"\"\"\n",
    "\n",
    "    try:\n",
    "        number = float(a)\n",
    "        return(\"yes\")\n",
    "    \n",
    "    except ValueError:\n",
    "        return(\"no\")\n"
   ]
  },
  {
   "cell_type": "code",
   "execution_count": 4,
   "metadata": {},
   "outputs": [],
   "source": [
    "def read_original_measurements():\n",
    "    \"\"\"\n",
    "    \n",
    "    \"\"\"\n",
    "    measurements = []\n",
    "    readings = []\n",
    "    \n",
    "    with open(original_measurement_filename,'r') as ReadFile: \n",
    "        \n",
    "        for row in ReadFile:\n",
    "            \n",
    "            row = row.split(\"\\t\")\n",
    "             \n",
    "            for item in row: \n",
    "                \n",
    "                a = is_number(item)\n",
    "                    \n",
    "                if a == \"yes\":\n",
    "                    measurements.append(float(item))\n",
    "                    \n",
    "                if \":\" in str(item):\n",
    "                    measurements.append(item)\n",
    "                    \n",
    "    return(measurements)\n"
   ]
  },
  {
   "cell_type": "code",
   "execution_count": 5,
   "metadata": {
    "collapsed": true
   },
   "outputs": [],
   "source": [
    "def build_dataframe(measurements):\n",
    "    \"\"\"\n",
    "    \n",
    "    \"\"\"\n",
    "    \n",
    "    times = []\n",
    "    readings = []\n",
    "    for i in range(len(measurements)):\n",
    "        \n",
    "        if \":\" in str(measurements[i]):\n",
    "            \n",
    "            time_clock = measurements[i]\n",
    "            time_split = time_clock.split(\":\")\n",
    "            \n",
    "            if len(time_split) == 2:\n",
    "                time_hour = float(time_split[0])*1/60 + float(time_split[1])*1/60*1/60 \n",
    "            \n",
    "            if len(time_split) == 3:\n",
    "                time_hour = float(time_split[0]) + float(time_split[1])*1/60 + float(time_split[2])*1/60*1/60 \n",
    "            \n",
    "            times.append(time_hour)\n",
    "            \n",
    "            well_readings = measurements[i+2:i+98]\n",
    "            \n",
    "            readings.append(well_readings)\n",
    "        \n",
    "    df = pd.DataFrame(readings)\n",
    "    \n",
    "    return(df, times)"
   ]
  },
  {
   "cell_type": "code",
   "execution_count": 6,
   "metadata": {
    "collapsed": true
   },
   "outputs": [],
   "source": [
    "def name_well(i):\n",
    "    \"\"\"\n",
    "    \n",
    "    \"\"\"\n",
    "    letter_list = ['A','B','C','D','E','F','G','H','I']\n",
    "    col_num = int(i/12)\n",
    "    row_num = int(i%12)\n",
    "    well_name = str(letter_list[col_num]) + str(row_num+1)\n",
    "    \n",
    "    return(well_name)\n",
    "       "
   ]
  },
  {
   "cell_type": "code",
   "execution_count": 7,
   "metadata": {
    "collapsed": true
   },
   "outputs": [],
   "source": [
    "def find_extreme(b):\n",
    "    \"\"\"\n",
    "    \n",
    "    \"\"\"\n",
    "    \n",
    "    if len(b) > 0:\n",
    "        mean_b = sum(b)/len(b)\n",
    "    \n",
    "    else:\n",
    "        mean_b = 0\n",
    "    \n",
    "    max_b, min_b, index_max_b, index_min_b = mean_b, mean_b, 0, 0\n",
    "    \n",
    "    for i in range(len(b)):\n",
    "        \n",
    "        if b[i] < min_b:\n",
    "            min_b = b[i]\n",
    "            index_min_b = i\n",
    "            \n",
    "        if b[i] > max_b:\n",
    "            max_b = b[i]\n",
    "            index_max_b = i\n",
    "            \n",
    "    return(max_b, min_b, index_max_b, index_min_b)\n"
   ]
  },
  {
   "cell_type": "code",
   "execution_count": 8,
   "metadata": {
    "collapsed": true
   },
   "outputs": [],
   "source": [
    "def truncate_list(b, times):\n",
    "    \"\"\"\n",
    "    \n",
    "    \"\"\"\n",
    "    max_b, min_b, index_max_b, index_min_b = find_extreme(b)\n",
    "    \n",
    "    truncated_b, ln_times = [], []\n",
    "    \n",
    "    for i in range(len(b)):\n",
    "        if i >= index_min_b and i <= index_max_b:\n",
    "            truncated_b.append(b[i])\n",
    "            ln_times.append(times[i])\n",
    "            \n",
    "    return(truncated_b, ln_times )\n",
    "        "
   ]
  },
  {
   "cell_type": "code",
   "execution_count": 9,
   "metadata": {
    "collapsed": true
   },
   "outputs": [],
   "source": [
    "def natural_log_list(b):\n",
    "    \"\"\"\n",
    "    \n",
    "    \"\"\"\n",
    "    \n",
    "    ln_b = []\n",
    "    \n",
    "    for i in range(len(b)):\n",
    "        value = b[i] / min(b)\n",
    "        value = math.log(value)\n",
    "        ln_b.append(value)\n",
    "        \n",
    "    return(ln_b)\n"
   ]
  },
  {
   "cell_type": "code",
   "execution_count": 10,
   "metadata": {},
   "outputs": [],
   "source": [
    "def truncate_to_slope(ln_b, ln_times):\n",
    "    \"\"\"\n",
    "    \n",
    "    \"\"\"\n",
    "    max_b, min_b, index_max_b, index_min_b = find_extreme(ln_b)\n",
    "    \n",
    "    truncated_to_slope_b, truncated_to_slope_times = [], []\n",
    "    \n",
    "    for i in range(len(ln_b)):\n",
    "        \n",
    "        if ln_b[i] <= max_b:\n",
    "            \n",
    "            print(str(ln_b[i] / max_b))\n",
    "            \n",
    "            \"\"\"\n",
    "            if min_b == 0:\n",
    "                min_for_slope = 0.99*max_b\n",
    "                \n",
    "            else:\n",
    "                min_for_slope = 2*min_b \n",
    "            \"\"\"\n",
    "              \n",
    "            if ln_b[i] >= min_for_slope:\n",
    "                \n",
    "                print(str(ln_b[i] / min_for_slope))\n",
    "                    \n",
    "                truncated_to_slope_b.append(ln_b[i])\n",
    "                truncated_to_slope_times.append(ln_times[i]) \n",
    "            \n",
    "    return(truncated_to_slope_b, truncated_to_slope_times )\n",
    "        \n",
    "    "
   ]
  },
  {
   "cell_type": "code",
   "execution_count": 11,
   "metadata": {},
   "outputs": [],
   "source": [
    "def plot_each_well(df, times):\n",
    "    \"\"\"\n",
    "    \n",
    "    \"\"\"\n",
    "    \n",
    "    for i in range(len(df.iloc[0, :])):\n",
    "        \n",
    "        well_name = name_well(i)\n",
    "            \n",
    "        # Initiate a new figure  \n",
    "        fig_rows, fig_columns, subplot_number = 1, 2, 0\n",
    "        fig = plt.figure(figsize=(fig_columns*6, fig_rows*6))\n",
    "    \n",
    "        b = df.iloc[:, i]\n",
    "        \n",
    "        max_b, min_b, index_max_b, index_min_b = find_extreme(b)\n",
    "        truncated_b, ln_times = truncate_list(b, times)\n",
    "        ln_b = natural_log_list(truncated_b)\n",
    "        truncated_to_slope_b, truncated_to_slope_times = truncate_to_slope(ln_b, ln_times)\n",
    "  \n",
    "        subplot_number += 1\n",
    "        plt.subplot(fig_rows, fig_columns, subplot_number)\n",
    "        plt.scatter(times, b,  c = [.8,.8,.8], label = 'All')\n",
    "        plt.scatter(ln_times, truncated_b, c = [.8,0,0], label = 'Truncated')\n",
    "        \n",
    "        plt.xlabel(\"Time Lapsed (minutes)\")\n",
    "        plt.ylabel(\"Kinetic Absorbance 650 nm\")\n",
    "        description = ('Well Name ' + str(well_name) + ' (Well No. ' + str(i+1) + ')')\n",
    "        plt.title(description)\n",
    "        plt.xlim([0, max(times)])\n",
    "        plt.legend(loc='center left')\n",
    "        \n",
    "        subplot_number += 1\n",
    "        plt.subplot(fig_rows, fig_columns, subplot_number)\n",
    "        plt.scatter(ln_times, ln_b, c = [0,.7,.8], label = 'ln(value / intial value)')\n",
    "        plt.scatter(truncated_to_slope_times, truncated_to_slope_b, c = [0,0,.8], label = 'Log Phase Growth')\n",
    "        \n",
    "        slope_list = []\n",
    "        included_well_list = []\n",
    "        included_wellname_list = []\n",
    "        \n",
    "        if len(ln_times) > 10:\n",
    "            poly_fit = np.poly1d(np.polyfit(ln_times, ln_b, 1))\n",
    "            xx = np.linspace(min(ln_times), max(ln_times), 50)\n",
    "            equation_text = str(\"y = \" + str(round(poly_fit[1],3)) + \"x + \" + str(round(poly_fit[0],3))) \n",
    "            print(poly_fit)\n",
    "            print(equation_text)\n",
    "            plt.plot(xx, poly_fit(xx), c=[0,1,0], linestyle='-', label = equation_text)\n",
    "            \n",
    "            slope_list.append(poly_fit[1])\n",
    "            included_well_list.append(i+1)\n",
    "            included_wellname_list.append(well_name)\n",
    "            \n",
    "        if len(truncated_to_slope_b) > 10:\n",
    "            poly_fit = np.poly1d(np.polyfit(truncated_to_slope_times, truncated_to_slope_b, 1))\n",
    "            xx = np.linspace(min(truncated_to_slope_times), max(truncated_to_slope_times), 50)\n",
    "            equation_text = str(\"y = \" + str(round(poly_fit[1],3)) + \"x + \" + str(round(poly_fit[0],3))) \n",
    "            print(poly_fit)\n",
    "            print(equation_text)\n",
    "            plt.plot(xx, poly_fit(xx), c=[0,1,1], linestyle='-', label = equation_text)\n",
    " \n",
    "        plt.xlabel(\"Time Lapsed (minutes)\")\n",
    "        plt.ylabel(\"Kinetic Absorbance 650 nm\")\n",
    "        description = ('Well Name ' + str(well_name) + ' (Well No. ' + str(i+1) + ')')\n",
    "        plt.title(description)\n",
    "        plt.xlim([0, max(times)])\n",
    "        plt.legend(loc='center left')\n",
    "        \n",
    "        save_figure_name = os.path.join( \"Figures\", well_name + '.jpg')\n",
    "        plt.savefig(save_figure_name, bbox_inches='tight')\n",
    "       \n",
    "        plt.show()\n",
    "        \n",
    "    plt.scatter(included_well_list, slope_list)\n",
    "    plt.xlabel(\"Well No.\")\n",
    "    plt.ylabel(\"Slope \")\n",
    "    plt.show()\n",
    "    \n",
    "    save_figure_name = os.path.join( \"Figures\", 'Summary' + '.jpg')\n",
    "    plt.savefig(save_figure_name, bbox_inches='tight')\n"
   ]
  },
  {
   "cell_type": "code",
   "execution_count": 12,
   "metadata": {},
   "outputs": [],
   "source": [
    "def main():\n",
    "    \"\"\"\n",
    "    \n",
    "    \"\"\" \n",
    "    \n",
    "    measurements = read_original_measurements()\n",
    "    \n",
    "    df, times = build_dataframe(measurements)\n",
    "\n",
    "    plot_each_well(df, times)\n",
    "    \n",
    "    \n",
    "    \n",
    "    "
   ]
  },
  {
   "cell_type": "code",
   "execution_count": 13,
   "metadata": {},
   "outputs": [
    {
     "name": "stdout",
     "output_type": "stream",
     "text": [
      "0.0\n"
     ]
    },
    {
     "ename": "NameError",
     "evalue": "name 'min_for_slope' is not defined",
     "output_type": "error",
     "traceback": [
      "\u001b[0;31m---------------------------------------------------------------------------\u001b[0m",
      "\u001b[0;31mNameError\u001b[0m                                 Traceback (most recent call last)",
      "\u001b[0;32m<ipython-input-13-82737da55756>\u001b[0m in \u001b[0;36m<module>\u001b[0;34m()\u001b[0m\n\u001b[1;32m      1\u001b[0m \u001b[0;32mif\u001b[0m \u001b[0m__name__\u001b[0m \u001b[0;34m==\u001b[0m \u001b[0;34m\"__main__\"\u001b[0m\u001b[0;34m:\u001b[0m\u001b[0;34m\u001b[0m\u001b[0m\n\u001b[0;32m----> 2\u001b[0;31m     \u001b[0mmain\u001b[0m\u001b[0;34m(\u001b[0m\u001b[0;34m)\u001b[0m\u001b[0;34m\u001b[0m\u001b[0m\n\u001b[0m\u001b[1;32m      3\u001b[0m \u001b[0;34m\u001b[0m\u001b[0m\n",
      "\u001b[0;32m<ipython-input-12-dfc930253519>\u001b[0m in \u001b[0;36mmain\u001b[0;34m()\u001b[0m\n\u001b[1;32m      8\u001b[0m     \u001b[0mdf\u001b[0m\u001b[0;34m,\u001b[0m \u001b[0mtimes\u001b[0m \u001b[0;34m=\u001b[0m \u001b[0mbuild_dataframe\u001b[0m\u001b[0;34m(\u001b[0m\u001b[0mmeasurements\u001b[0m\u001b[0;34m)\u001b[0m\u001b[0;34m\u001b[0m\u001b[0m\n\u001b[1;32m      9\u001b[0m \u001b[0;34m\u001b[0m\u001b[0m\n\u001b[0;32m---> 10\u001b[0;31m     \u001b[0mplot_each_well\u001b[0m\u001b[0;34m(\u001b[0m\u001b[0mdf\u001b[0m\u001b[0;34m,\u001b[0m \u001b[0mtimes\u001b[0m\u001b[0;34m)\u001b[0m\u001b[0;34m\u001b[0m\u001b[0m\n\u001b[0m\u001b[1;32m     11\u001b[0m \u001b[0;34m\u001b[0m\u001b[0m\n\u001b[1;32m     12\u001b[0m \u001b[0;34m\u001b[0m\u001b[0m\n",
      "\u001b[0;32m<ipython-input-11-80744dc82613>\u001b[0m in \u001b[0;36mplot_each_well\u001b[0;34m(df, times)\u001b[0m\n\u001b[1;32m     17\u001b[0m         \u001b[0mtruncated_b\u001b[0m\u001b[0;34m,\u001b[0m \u001b[0mln_times\u001b[0m \u001b[0;34m=\u001b[0m \u001b[0mtruncate_list\u001b[0m\u001b[0;34m(\u001b[0m\u001b[0mb\u001b[0m\u001b[0;34m,\u001b[0m \u001b[0mtimes\u001b[0m\u001b[0;34m)\u001b[0m\u001b[0;34m\u001b[0m\u001b[0m\n\u001b[1;32m     18\u001b[0m         \u001b[0mln_b\u001b[0m \u001b[0;34m=\u001b[0m \u001b[0mnatural_log_list\u001b[0m\u001b[0;34m(\u001b[0m\u001b[0mtruncated_b\u001b[0m\u001b[0;34m)\u001b[0m\u001b[0;34m\u001b[0m\u001b[0m\n\u001b[0;32m---> 19\u001b[0;31m         \u001b[0mtruncated_to_slope_b\u001b[0m\u001b[0;34m,\u001b[0m \u001b[0mtruncated_to_slope_times\u001b[0m \u001b[0;34m=\u001b[0m \u001b[0mtruncate_to_slope\u001b[0m\u001b[0;34m(\u001b[0m\u001b[0mln_b\u001b[0m\u001b[0;34m,\u001b[0m \u001b[0mln_times\u001b[0m\u001b[0;34m)\u001b[0m\u001b[0;34m\u001b[0m\u001b[0m\n\u001b[0m\u001b[1;32m     20\u001b[0m \u001b[0;34m\u001b[0m\u001b[0m\n\u001b[1;32m     21\u001b[0m         \u001b[0msubplot_number\u001b[0m \u001b[0;34m+=\u001b[0m \u001b[0;36m1\u001b[0m\u001b[0;34m\u001b[0m\u001b[0m\n",
      "\u001b[0;32m<ipython-input-10-f0e1142d6449>\u001b[0m in \u001b[0;36mtruncate_to_slope\u001b[0;34m(ln_b, ln_times)\u001b[0m\n\u001b[1;32m     21\u001b[0m             \"\"\"\n\u001b[1;32m     22\u001b[0m \u001b[0;34m\u001b[0m\u001b[0m\n\u001b[0;32m---> 23\u001b[0;31m             \u001b[0;32mif\u001b[0m \u001b[0mln_b\u001b[0m\u001b[0;34m[\u001b[0m\u001b[0mi\u001b[0m\u001b[0;34m]\u001b[0m \u001b[0;34m>=\u001b[0m \u001b[0mmin_for_slope\u001b[0m\u001b[0;34m:\u001b[0m\u001b[0;34m\u001b[0m\u001b[0m\n\u001b[0m\u001b[1;32m     24\u001b[0m \u001b[0;34m\u001b[0m\u001b[0m\n\u001b[1;32m     25\u001b[0m                 \u001b[0mprint\u001b[0m\u001b[0;34m(\u001b[0m\u001b[0mstr\u001b[0m\u001b[0;34m(\u001b[0m\u001b[0mln_b\u001b[0m\u001b[0;34m[\u001b[0m\u001b[0mi\u001b[0m\u001b[0;34m]\u001b[0m \u001b[0;34m/\u001b[0m \u001b[0mmin_for_slope\u001b[0m\u001b[0;34m)\u001b[0m\u001b[0;34m)\u001b[0m\u001b[0;34m\u001b[0m\u001b[0m\n",
      "\u001b[0;31mNameError\u001b[0m: name 'min_for_slope' is not defined"
     ]
    }
   ],
   "source": [
    "if __name__ == \"__main__\":\n",
    "    main()\n",
    "    "
   ]
  }
 ],
 "metadata": {
  "kernelspec": {
   "display_name": "Python 3",
   "language": "python",
   "name": "python3"
  },
  "language_info": {
   "codemirror_mode": {
    "name": "ipython",
    "version": 3
   },
   "file_extension": ".py",
   "mimetype": "text/x-python",
   "name": "python",
   "nbconvert_exporter": "python",
   "pygments_lexer": "ipython3",
   "version": "3.6.3"
  }
 },
 "nbformat": 4,
 "nbformat_minor": 2
}
